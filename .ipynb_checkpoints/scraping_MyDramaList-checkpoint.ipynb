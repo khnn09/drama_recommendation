{
 "cells": [
  {
   "cell_type": "markdown",
   "metadata": {},
   "source": [
    "# GOAL : Scrape Drama Reviews\n",
    "FROM: https://mydramalist.com/"
   ]
  },
  {
   "cell_type": "code",
   "execution_count": 1,
   "metadata": {},
   "outputs": [],
   "source": [
    "from selenium import webdriver\n",
    "from bs4 import BeautifulSoup\n",
    "import pandas as pd\n",
    "import time\n"
   ]
  },
  {
   "cell_type": "code",
   "execution_count": 2,
   "metadata": {},
   "outputs": [],
   "source": [
    "driver_place = 'C:/Users/Hanna Kim/Documents/데잇걸즈 4기/공공데이터 공모전/chromedriver'\n",
    "driver = webdriver.Chrome(driver_place)\n",
    "driver.get('https://mydramalist.com/profile/dragynfaerie/reviews?page=1')\n",
    "html = driver.page_source\n",
    "soup = BeautifulSoup(html, 'html.parser')"
   ]
  },
  {
   "cell_type": "code",
   "execution_count": 3,
   "metadata": {},
   "outputs": [],
   "source": [
    "title = []\n",
    "reviewer = []\n",
    "# create list for each column\n",
    "story = []\n",
    "acting = []\n",
    "music = []\n",
    "rewatch = []\n",
    "tire = soup.select(\"a.text-primary\")\n",
    "score = soup.select(\"span.p-l-md.pull-right\")\n",
    "for i in range(int(len(tire)/3)):\n",
    "    title.append(tire[3*i].text)\n",
    "    reviewer.append(tire[3*i+1].text)\n",
    "    story.append(score[4*i].text) \n",
    "    acting.append(score[4*i+1].text)\n",
    "    music.append(score[4*i+2].text)\n",
    "    rewatch.append(score[4*i+3].text)\n",
    "overall = [*map(lambda x:x.text,soup.select(\"span.score\"))]"
   ]
  },
  {
   "cell_type": "code",
   "execution_count": 4,
   "metadata": {},
   "outputs": [
    {
     "data": {
      "text/html": [
       "<div>\n",
       "<style scoped>\n",
       "    .dataframe tbody tr th:only-of-type {\n",
       "        vertical-align: middle;\n",
       "    }\n",
       "\n",
       "    .dataframe tbody tr th {\n",
       "        vertical-align: top;\n",
       "    }\n",
       "\n",
       "    .dataframe thead th {\n",
       "        text-align: right;\n",
       "    }\n",
       "</style>\n",
       "<table border=\"1\" class=\"dataframe\">\n",
       "  <thead>\n",
       "    <tr style=\"text-align: right;\">\n",
       "      <th></th>\n",
       "      <th>title</th>\n",
       "      <th>reviewer</th>\n",
       "      <th>overall</th>\n",
       "      <th>story</th>\n",
       "      <th>acting</th>\n",
       "      <th>music</th>\n",
       "      <th>rewatch</th>\n",
       "    </tr>\n",
       "  </thead>\n",
       "  <tbody>\n",
       "    <tr>\n",
       "      <th>0</th>\n",
       "      <td>Goblin</td>\n",
       "      <td>dragynfaerie</td>\n",
       "      <td>7.5</td>\n",
       "      <td>6.5</td>\n",
       "      <td>9.0</td>\n",
       "      <td>8.0</td>\n",
       "      <td>5.0</td>\n",
       "    </tr>\n",
       "    <tr>\n",
       "      <th>1</th>\n",
       "      <td>The Sound of Your Heart</td>\n",
       "      <td>dragynfaerie</td>\n",
       "      <td>10</td>\n",
       "      <td>10</td>\n",
       "      <td>10</td>\n",
       "      <td>9.0</td>\n",
       "      <td>10</td>\n",
       "    </tr>\n",
       "    <tr>\n",
       "      <th>2</th>\n",
       "      <td>Sword and Flower</td>\n",
       "      <td>dragynfaerie</td>\n",
       "      <td>8.0</td>\n",
       "      <td>9.0</td>\n",
       "      <td>10</td>\n",
       "      <td>9.0</td>\n",
       "      <td>5.0</td>\n",
       "    </tr>\n",
       "    <tr>\n",
       "      <th>3</th>\n",
       "      <td>Who Are You</td>\n",
       "      <td>dragynfaerie</td>\n",
       "      <td>7.0</td>\n",
       "      <td>6.0</td>\n",
       "      <td>9.0</td>\n",
       "      <td>7.0</td>\n",
       "      <td>6.0</td>\n",
       "    </tr>\n",
       "    <tr>\n",
       "      <th>4</th>\n",
       "      <td>Once Again</td>\n",
       "      <td>dragynfaerie</td>\n",
       "      <td>9.5</td>\n",
       "      <td>8.0</td>\n",
       "      <td>10</td>\n",
       "      <td>9.0</td>\n",
       "      <td>9.5</td>\n",
       "    </tr>\n",
       "    <tr>\n",
       "      <th>5</th>\n",
       "      <td>Lesson of the Evil</td>\n",
       "      <td>dragynfaerie</td>\n",
       "      <td>9.0</td>\n",
       "      <td>9.0</td>\n",
       "      <td>9.0</td>\n",
       "      <td>8.0</td>\n",
       "      <td>10</td>\n",
       "    </tr>\n",
       "    <tr>\n",
       "      <th>6</th>\n",
       "      <td>I  Do, I Do</td>\n",
       "      <td>dragynfaerie</td>\n",
       "      <td>6.0</td>\n",
       "      <td>7.0</td>\n",
       "      <td>9.0</td>\n",
       "      <td>9.0</td>\n",
       "      <td>4.0</td>\n",
       "    </tr>\n",
       "    <tr>\n",
       "      <th>7</th>\n",
       "      <td>Mystic Pop-Up Bar</td>\n",
       "      <td>dragynfaerie</td>\n",
       "      <td>9.5</td>\n",
       "      <td>10</td>\n",
       "      <td>10</td>\n",
       "      <td>9.5</td>\n",
       "      <td>9.0</td>\n",
       "    </tr>\n",
       "    <tr>\n",
       "      <th>8</th>\n",
       "      <td>My Roommate is a Detective</td>\n",
       "      <td>dragynfaerie</td>\n",
       "      <td>9.0</td>\n",
       "      <td>8.0</td>\n",
       "      <td>10</td>\n",
       "      <td>10</td>\n",
       "      <td>8.0</td>\n",
       "    </tr>\n",
       "    <tr>\n",
       "      <th>9</th>\n",
       "      <td>Ashita no Kita Yoshio</td>\n",
       "      <td>dragynfaerie</td>\n",
       "      <td>10</td>\n",
       "      <td>10</td>\n",
       "      <td>10</td>\n",
       "      <td>8.0</td>\n",
       "      <td>10</td>\n",
       "    </tr>\n",
       "    <tr>\n",
       "      <th>10</th>\n",
       "      <td>Gloomy Salad Days</td>\n",
       "      <td>dragynfaerie</td>\n",
       "      <td>9.0</td>\n",
       "      <td>10</td>\n",
       "      <td>9.0</td>\n",
       "      <td>9.0</td>\n",
       "      <td>10</td>\n",
       "    </tr>\n",
       "    <tr>\n",
       "      <th>11</th>\n",
       "      <td>Hwarang</td>\n",
       "      <td>dragynfaerie</td>\n",
       "      <td>9.5</td>\n",
       "      <td>8.5</td>\n",
       "      <td>10</td>\n",
       "      <td>8.0</td>\n",
       "      <td>10</td>\n",
       "    </tr>\n",
       "    <tr>\n",
       "      <th>12</th>\n",
       "      <td>Deranged</td>\n",
       "      <td>dragynfaerie</td>\n",
       "      <td>6.0</td>\n",
       "      <td>5.5</td>\n",
       "      <td>7.5</td>\n",
       "      <td>8.0</td>\n",
       "      <td>1.0</td>\n",
       "    </tr>\n",
       "    <tr>\n",
       "      <th>13</th>\n",
       "      <td>Black</td>\n",
       "      <td>dragynfaerie</td>\n",
       "      <td>8.5</td>\n",
       "      <td>9.0</td>\n",
       "      <td>10</td>\n",
       "      <td>8.0</td>\n",
       "      <td>8.0</td>\n",
       "    </tr>\n",
       "    <tr>\n",
       "      <th>14</th>\n",
       "      <td>Sign</td>\n",
       "      <td>dragynfaerie</td>\n",
       "      <td>10</td>\n",
       "      <td>10</td>\n",
       "      <td>10</td>\n",
       "      <td>8.0</td>\n",
       "      <td>9.0</td>\n",
       "    </tr>\n",
       "  </tbody>\n",
       "</table>\n",
       "</div>"
      ],
      "text/plain": [
       "                         title      reviewer overall story acting music  \\\n",
       "0                       Goblin  dragynfaerie     7.5   6.5    9.0   8.0   \n",
       "1      The Sound of Your Heart  dragynfaerie      10    10     10   9.0   \n",
       "2             Sword and Flower  dragynfaerie     8.0   9.0     10   9.0   \n",
       "3                  Who Are You  dragynfaerie     7.0   6.0    9.0   7.0   \n",
       "4                   Once Again  dragynfaerie     9.5   8.0     10   9.0   \n",
       "5           Lesson of the Evil  dragynfaerie     9.0   9.0    9.0   8.0   \n",
       "6                  I  Do, I Do  dragynfaerie     6.0   7.0    9.0   9.0   \n",
       "7            Mystic Pop-Up Bar  dragynfaerie     9.5    10     10   9.5   \n",
       "8   My Roommate is a Detective  dragynfaerie     9.0   8.0     10    10   \n",
       "9        Ashita no Kita Yoshio  dragynfaerie      10    10     10   8.0   \n",
       "10           Gloomy Salad Days  dragynfaerie     9.0    10    9.0   9.0   \n",
       "11                     Hwarang  dragynfaerie     9.5   8.5     10   8.0   \n",
       "12                    Deranged  dragynfaerie     6.0   5.5    7.5   8.0   \n",
       "13                       Black  dragynfaerie     8.5   9.0     10   8.0   \n",
       "14                        Sign  dragynfaerie      10    10     10   8.0   \n",
       "\n",
       "   rewatch  \n",
       "0      5.0  \n",
       "1       10  \n",
       "2      5.0  \n",
       "3      6.0  \n",
       "4      9.5  \n",
       "5       10  \n",
       "6      4.0  \n",
       "7      9.0  \n",
       "8      8.0  \n",
       "9       10  \n",
       "10      10  \n",
       "11      10  \n",
       "12     1.0  \n",
       "13     8.0  \n",
       "14     9.0  "
      ]
     },
     "execution_count": 4,
     "metadata": {},
     "output_type": "execute_result"
    }
   ],
   "source": [
    "pd.DataFrame({\"title\":title, \"reviewer\":reviewer, \"overall\":overall,\"story\":story,\"acting\":acting, \"music\":music, \"rewatch\":rewatch})"
   ]
  },
  {
   "cell_type": "code",
   "execution_count": 15,
   "metadata": {},
   "outputs": [],
   "source": [
    "def get_pg(n):\n",
    "    driver.get(f'https://mydramalist.com/profile/dragynfaerie/reviews?page={n}')\n",
    "    html = driver.page_source\n",
    "    soup = BeautifulSoup(html, 'html.parser')\n",
    "    return soup"
   ]
  },
  {
   "cell_type": "code",
   "execution_count": 28,
   "metadata": {},
   "outputs": [
    {
     "name": "stdout",
     "output_type": "stream",
     "text": [
      "same\n",
      "same\n",
      "same\n",
      "same\n"
     ]
    }
   ],
   "source": [
    "soup = get_pg(1)\n",
    "a =1\n",
    "while soup.select_one(\"li.page-item.nb.active\").text == str(a):\n",
    "    print(\"same\")\n",
    "    if soup.select_one(\"li.page-item.nb.active\").text != str(a):\n",
    "        print(\"not same\")\n",
    "        break\n",
    "    a +=1\n",
    "    soup = get_pg(a)"
   ]
  },
  {
   "cell_type": "code",
   "execution_count": 21,
   "metadata": {},
   "outputs": [],
   "source": [
    "a = 1\n",
    "while a ==3:\n",
    "    print(2)\n",
    "    a "
   ]
  },
  {
   "cell_type": "code",
   "execution_count": 22,
   "metadata": {},
   "outputs": [],
   "source": [
    "soup = get_pg(1)"
   ]
  },
  {
   "cell_type": "code",
   "execution_count": 23,
   "metadata": {},
   "outputs": [
    {
     "data": {
      "text/plain": [
       "'1'"
      ]
     },
     "execution_count": 23,
     "metadata": {},
     "output_type": "execute_result"
    }
   ],
   "source": [
    "soup.select_one(\"li.page-item.nb.active\").text"
   ]
  },
  {
   "cell_type": "code",
   "execution_count": 25,
   "metadata": {},
   "outputs": [
    {
     "data": {
      "text/plain": [
       "'1'"
      ]
     },
     "execution_count": 25,
     "metadata": {},
     "output_type": "execute_result"
    }
   ],
   "source": [
    "str(a)"
   ]
  },
  {
   "cell_type": "code",
   "execution_count": 27,
   "metadata": {},
   "outputs": [
    {
     "name": "stdout",
     "output_type": "stream",
     "text": [
      "Object `while` not found.\n"
     ]
    }
   ],
   "source": [
    "while?\n"
   ]
  },
  {
   "cell_type": "code",
   "execution_count": null,
   "metadata": {},
   "outputs": [],
   "source": []
  }
 ],
 "metadata": {
  "kernelspec": {
   "display_name": "Python 3",
   "language": "python",
   "name": "python3"
  },
  "language_info": {
   "codemirror_mode": {
    "name": "ipython",
    "version": 3
   },
   "file_extension": ".py",
   "mimetype": "text/x-python",
   "name": "python",
   "nbconvert_exporter": "python",
   "pygments_lexer": "ipython3",
   "version": "3.7.4"
  }
 },
 "nbformat": 4,
 "nbformat_minor": 2
}
